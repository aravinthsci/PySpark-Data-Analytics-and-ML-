{
 "cells": [
  {
   "cell_type": "code",
   "execution_count": 1,
   "metadata": {
    "ExecuteTime": {
     "end_time": "2019-03-22T05:47:52.019578Z",
     "start_time": "2019-03-22T05:47:51.871230Z"
    }
   },
   "outputs": [],
   "source": [
    "from __future__ import print_function\n",
    "import sys\n",
    "from operator import add\n",
    "from pyspark.sql import SparkSession\n",
    "from pyspark.sql.types import *"
   ]
  },
  {
   "cell_type": "code",
   "execution_count": 2,
   "metadata": {
    "ExecuteTime": {
     "end_time": "2019-03-22T05:48:07.007625Z",
     "start_time": "2019-03-22T05:48:05.306727Z"
    }
   },
   "outputs": [],
   "source": [
    "spark = SparkSession.builder.getOrCreate()"
   ]
  },
  {
   "cell_type": "markdown",
   "metadata": {},
   "source": [
    "## Schema"
   ]
  },
  {
   "cell_type": "code",
   "execution_count": 3,
   "metadata": {
    "ExecuteTime": {
     "end_time": "2019-03-22T05:48:17.545364Z",
     "start_time": "2019-03-22T05:48:17.527036Z"
    }
   },
   "outputs": [],
   "source": [
    "schema1 = StructType([\n",
    "    StructField(\"f1\", StringType(), True),\n",
    "    StructField(\"f2\", StringType(), True),\n",
    "    StructField(\"f3\", DoubleType(), True),\n",
    "    StructField(\"f4\", StringType(), True),\n",
    "    StructField(\"f5\", DoubleType(), True),\n",
    "    StructField(\"f6\", DoubleType(), True),\n",
    "    StructField(\"f7\", DoubleType(), True),\n",
    "    StructField(\"f8\", DoubleType(), True),\n",
    "    StructField(\"f9\", DoubleType(), True),\n",
    "    StructField(\"f10\", StringType(), True),\n",
    "    StructField(\"f11\", StringType(), True),\n",
    "    StructField(\"f12\", StringType(), True),\n",
    "    StructField(\"f13\", StringType(), True),\n",
    "    StructField(\"f14\", StringType(), True),\n",
    "    StructField(\"f15\", StringType(), True),\n",
    "    StructField(\"f16\", StringType(), True),\n",
    "    StructField(\"f17\", StringType(), True),\n",
    "    StructField(\"f18\", StringType(), True),\n",
    "    StructField(\"f19\", StringType(), True),\n",
    "    StructField(\"f20\", StringType(), True),\n",
    "    StructField(\"f21\", StringType(), True),\n",
    "    StructField(\"f22\", StringType(), True),\n",
    "    StructField(\"f23\", StringType(), True)])"
   ]
  },
  {
   "cell_type": "code",
   "execution_count": 5,
   "metadata": {
    "ExecuteTime": {
     "end_time": "2019-03-22T05:49:37.518746Z",
     "start_time": "2019-03-22T05:49:37.284690Z"
    }
   },
   "outputs": [],
   "source": [
    "df_read = spark.read \\\n",
    " .option(\"delimiter\", \"\\t\") \\\n",
    " .schema(schema1) \\\n",
    " .option(\"inferSchema\", \"True\") \\\n",
    " .csv(\"youtubedata.txt\")\n",
    "df_read.createOrReplaceTempView(\"youtube_data\") "
   ]
  },
  {
   "cell_type": "code",
   "execution_count": 6,
   "metadata": {
    "ExecuteTime": {
     "end_time": "2019-03-22T05:50:32.875715Z",
     "start_time": "2019-03-22T05:50:32.869480Z"
    }
   },
   "outputs": [
    {
     "name": "stdout",
     "output_type": "stream",
     "text": [
      "root\n",
      " |-- f1: string (nullable = true)\n",
      " |-- f2: string (nullable = true)\n",
      " |-- f3: double (nullable = true)\n",
      " |-- f4: string (nullable = true)\n",
      " |-- f5: double (nullable = true)\n",
      " |-- f6: double (nullable = true)\n",
      " |-- f7: double (nullable = true)\n",
      " |-- f8: double (nullable = true)\n",
      " |-- f9: double (nullable = true)\n",
      " |-- f10: string (nullable = true)\n",
      " |-- f11: string (nullable = true)\n",
      " |-- f12: string (nullable = true)\n",
      " |-- f13: string (nullable = true)\n",
      " |-- f14: string (nullable = true)\n",
      " |-- f15: string (nullable = true)\n",
      " |-- f16: string (nullable = true)\n",
      " |-- f17: string (nullable = true)\n",
      " |-- f18: string (nullable = true)\n",
      " |-- f19: string (nullable = true)\n",
      " |-- f20: string (nullable = true)\n",
      " |-- f21: string (nullable = true)\n",
      " |-- f22: string (nullable = true)\n",
      " |-- f23: string (nullable = true)\n",
      "\n"
     ]
    }
   ],
   "source": [
    "df_read.printSchema()"
   ]
  },
  {
   "cell_type": "code",
   "execution_count": 18,
   "metadata": {
    "ExecuteTime": {
     "end_time": "2019-03-22T05:56:47.911552Z",
     "start_time": "2019-03-22T05:56:47.895553Z"
    }
   },
   "outputs": [
    {
     "name": "stdout",
     "output_type": "stream",
     "text": [
      "root\n",
      " |-- vdo_id: string (nullable = true)\n",
      " |-- vdo_uploader: string (nullable = true)\n",
      " |-- vdo_interval: double (nullable = true)\n",
      " |-- vdo_category: string (nullable = true)\n",
      " |-- vdo_length: double (nullable = true)\n",
      " |-- vdo_views: double (nullable = true)\n",
      " |-- vdo_rating: double (nullable = true)\n",
      " |-- vdo_num_rating: double (nullable = true)\n",
      " |-- vdo_comm: double (nullable = true)\n",
      " |-- vdo_rel_id: string (nullable = true)\n",
      "\n"
     ]
    }
   ],
   "source": [
    "df1 = spark.sql('''select f1 as vdo_id, f2 as vdo_uploader, f3 as vdo_interval, f4 as vdo_category, f5 vdo_length, f6 as vdo_views, f7 as vdo_rating, f8 as vdo_num_rating , f9 as vdo_comm, f10  as vdo_rel_id from youtube_data''')\n",
    "\n",
    "df1.createOrReplaceTempView(\"data\")\n",
    "df1.printSchema()"
   ]
  },
  {
   "cell_type": "markdown",
   "metadata": {},
   "source": [
    "top categories with the maximum number of videos uploaded"
   ]
  },
  {
   "cell_type": "code",
   "execution_count": 19,
   "metadata": {
    "ExecuteTime": {
     "end_time": "2019-03-22T05:56:50.817254Z",
     "start_time": "2019-03-22T05:56:50.455546Z"
    }
   },
   "outputs": [
    {
     "name": "stdout",
     "output_type": "stream",
     "text": [
      "+--------------------+--------------+\n",
      "|        vdo_category|category_count|\n",
      "+--------------------+--------------+\n",
      "|       Entertainment|           908|\n",
      "|               Music|           862|\n",
      "|              Comedy|           414|\n",
      "|      People & Blogs|           398|\n",
      "|     News & Politics|           333|\n",
      "|    Film & Animation|           260|\n",
      "|              Sports|           251|\n",
      "|       Howto & Style|           137|\n",
      "|     Travel & Events|           112|\n",
      "|      Pets & Animals|            95|\n",
      "|Science & Technology|            80|\n",
      "|    Autos & Vehicles|            77|\n",
      "|           Education|            65|\n",
      "|Nonprofits & Acti...|            42|\n",
      "|                UNA |            32|\n",
      "|                null|             0|\n",
      "+--------------------+--------------+\n",
      "\n"
     ]
    }
   ],
   "source": [
    "df2 = spark.sql('''select vdo_category, COUNT(vdo_category) category_count from \n",
    "data group by vdo_category order by category_count DESC''')\n",
    "df2.show()"
   ]
  },
  {
   "cell_type": "markdown",
   "metadata": {},
   "source": [
    "fetch videos with decreasing order of there rating"
   ]
  },
  {
   "cell_type": "code",
   "execution_count": 24,
   "metadata": {
    "ExecuteTime": {
     "end_time": "2019-03-22T05:57:53.104042Z",
     "start_time": "2019-03-22T05:57:52.662722Z"
    }
   },
   "outputs": [
    {
     "name": "stdout",
     "output_type": "stream",
     "text": [
      "+-----------+----------+\n",
      "|     vdo_id|vdo_rating|\n",
      "+-----------+----------+\n",
      "|jIuCA4RRtXE|       5.0|\n",
      "|Zs4H9Itl40c|       5.0|\n",
      "|Bdvhh1GDfW4|       5.0|\n",
      "|ZEDYzwdqHrU|       5.0|\n",
      "|cvd-OyHm9lE|       5.0|\n",
      "|pWOMN2neHdg|       5.0|\n",
      "|sGEkP1F-tgQ|       5.0|\n",
      "|RN-CQVhgRDc|       5.0|\n",
      "|Y_hAXbgxXp8|       5.0|\n",
      "|8Kg_Hxbt-kU|       5.0|\n",
      "|GfHs7xrPRsE|       5.0|\n",
      "|goJJE3PqTnk|       5.0|\n",
      "|a8Ist4c9S3Q|       5.0|\n",
      "|smGcj6vohLs|       5.0|\n",
      "|5R5oh8AIguE|       5.0|\n",
      "|tI9guk2C3P8|       5.0|\n",
      "|Kj7LkIXS4dw|       5.0|\n",
      "|nMdp_QiA62E|       5.0|\n",
      "|NdQgIVkMINc|       5.0|\n",
      "|m7-ScnsMQek|       5.0|\n",
      "+-----------+----------+\n",
      "only showing top 20 rows\n",
      "\n"
     ]
    }
   ],
   "source": [
    "df3 = spark.sql(''' select distinct vdo_id,vdo_rating from data order by vdo_rating desc\n",
    "''')\n",
    "df3.show()\n"
   ]
  },
  {
   "cell_type": "markdown",
   "metadata": {},
   "source": [
    "find videos with the maximum number of comments."
   ]
  },
  {
   "cell_type": "code",
   "execution_count": 28,
   "metadata": {
    "ExecuteTime": {
     "end_time": "2019-03-22T06:01:29.355843Z",
     "start_time": "2019-03-22T06:01:29.269394Z"
    }
   },
   "outputs": [
    {
     "name": "stdout",
     "output_type": "stream",
     "text": [
      "+-----------+--------+\n",
      "|     vdo_id|comments|\n",
      "+-----------+--------+\n",
      "|kHmvkRoEowc|259683.0|\n",
      "|EwTZ2xpQwpA|129200.0|\n",
      "|4DC4Rb9quKk| 50036.0|\n",
      "|Qit3ALTelOo| 39418.0|\n",
      "|UW_1CvDFYVg| 33543.0|\n",
      "|rZBA0SKmQy8| 30666.0|\n",
      "|GfPJeDssBOM| 29786.0|\n",
      "|irp8CNj9qBI| 29330.0|\n",
      "|eBGIQ7ZuuiU| 29160.0|\n",
      "|LTxO_pgMqys| 26192.0|\n",
      "|yGMKgLRU-3c| 25155.0|\n",
      "|LU8DDYz68kM| 24004.0|\n",
      "|HPPj6viIBmU| 22567.0|\n",
      "|2x2W12A8Qow| 21323.0|\n",
      "|3QL97xldoXc| 19461.0|\n",
      "|edLR8fj6roo| 19161.0|\n",
      "|Rp198k984Yw| 18443.0|\n",
      "|Md6rURKhZmA| 17731.0|\n",
      "|EBM854BTGL0| 17602.0|\n",
      "|-hXKRilPNpc| 17000.0|\n",
      "+-----------+--------+\n",
      "only showing top 20 rows\n",
      "\n"
     ]
    }
   ],
   "source": [
    "df4 = spark.sql(''' select vdo_id, vdo_comm comments from data order by vdo_comm desc''')\n",
    "df4.show()"
   ]
  },
  {
   "cell_type": "code",
   "execution_count": null,
   "metadata": {},
   "outputs": [],
   "source": []
  }
 ],
 "metadata": {
  "kernelspec": {
   "display_name": "Python 3",
   "language": "python",
   "name": "python3"
  },
  "language_info": {
   "codemirror_mode": {
    "name": "ipython",
    "version": 3
   },
   "file_extension": ".py",
   "mimetype": "text/x-python",
   "name": "python",
   "nbconvert_exporter": "python",
   "pygments_lexer": "ipython3",
   "version": "3.6.5"
  },
  "toc": {
   "base_numbering": 1,
   "nav_menu": {},
   "number_sections": true,
   "sideBar": true,
   "skip_h1_title": false,
   "title_cell": "Table of Contents",
   "title_sidebar": "Contents",
   "toc_cell": false,
   "toc_position": {},
   "toc_section_display": true,
   "toc_window_display": false
  },
  "varInspector": {
   "cols": {
    "lenName": 16,
    "lenType": 16,
    "lenVar": 40
   },
   "kernels_config": {
    "python": {
     "delete_cmd_postfix": "",
     "delete_cmd_prefix": "del ",
     "library": "var_list.py",
     "varRefreshCmd": "print(var_dic_list())"
    },
    "r": {
     "delete_cmd_postfix": ") ",
     "delete_cmd_prefix": "rm(",
     "library": "var_list.r",
     "varRefreshCmd": "cat(var_dic_list()) "
    }
   },
   "types_to_exclude": [
    "module",
    "function",
    "builtin_function_or_method",
    "instance",
    "_Feature"
   ],
   "window_display": false
  }
 },
 "nbformat": 4,
 "nbformat_minor": 2
}
